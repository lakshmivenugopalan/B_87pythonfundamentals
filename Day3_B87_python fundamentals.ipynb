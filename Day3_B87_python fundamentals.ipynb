{
 "cells": [
  {
   "cell_type": "code",
   "execution_count": 1,
   "id": "3722ed26-0726-4b09-ba12-c01bfc8e9813",
   "metadata": {},
   "outputs": [
    {
     "name": "stdout",
     "output_type": "stream",
     "text": [
      "Dineshkumar\n"
     ]
    }
   ],
   "source": [
    "firstname = 'Dinesh'\n",
    "lastname = 'kumar'\n",
    "fullname= f\"{firstname}{lastname}\"\n",
    "print(fullname)\n"
   ]
  },
  {
   "cell_type": "code",
   "execution_count": 4,
   "id": "f7d3ce62-5530-40f3-97e4-2ab8dc8d5ac7",
   "metadata": {},
   "outputs": [
    {
     "name": "stdout",
     "output_type": "stream",
     "text": [
      "keep up the good work,DINESHKUMAR\n"
     ]
    }
   ],
   "source": [
    "message= f\"keep up the good work,{fullname.upper()}\"\n",
    "print(message)\n"
   ]
  },
  {
   "cell_type": "code",
   "execution_count": 6,
   "id": "d95b7cb1-407c-4d36-90bb-135ac1cfd0bf",
   "metadata": {},
   "outputs": [
    {
     "name": "stdout",
     "output_type": "stream",
     "text": [
      "favourite language:\n",
      "Python\n",
      "java\n",
      "javascript\n"
     ]
    }
   ],
   "source": [
    "print(\"favourite language:\\nPython\\njava\\njavascript\") ///new linedelimiter"
   ]
  },
  {
   "cell_type": "code",
   "execution_count": null,
   "id": "8f3f1acb-e751-4533-925a-48ad4acb81cf",
   "metadata": {},
   "outputs": [],
   "source": [
    "\\t===tab delimiter"
   ]
  },
  {
   "cell_type": "code",
   "execution_count": 9,
   "id": "f87eb4bf-7e71-4267-980e-dd8c498b95b9",
   "metadata": {},
   "outputs": [
    {
     "name": "stdout",
     "output_type": "stream",
     "text": [
      "favourite language:\n",
      "\tPython\n",
      "\tjava\n",
      "\tavascript\n"
     ]
    }
   ],
   "source": [
    "print(\"favourite language:\\n\\tPython\\n\\tjava\\n\\tavascript\")"
   ]
  },
  {
   "cell_type": "code",
   "execution_count": null,
   "id": "9d6d16e4-93bf-4695-907f-2b56c70bd8c9",
   "metadata": {},
   "outputs": [],
   "source": [
    "remove whitespaces"
   ]
  },
  {
   "cell_type": "code",
   "execution_count": 10,
   "id": "1ab6227e-8c38-44d1-be92-b1fd1b82f249",
   "metadata": {},
   "outputs": [
    {
     "name": "stdout",
     "output_type": "stream",
     "text": [
      " python\n"
     ]
    }
   ],
   "source": [
    "name= \" python\" \n",
    "print(name)"
   ]
  },
  {
   "cell_type": "code",
   "execution_count": 11,
   "id": "57d2b052-5941-49d6-b2a2-1355e8be8055",
   "metadata": {},
   "outputs": [
    {
     "data": {
      "text/plain": [
       "'python'"
      ]
     },
     "execution_count": 11,
     "metadata": {},
     "output_type": "execute_result"
    }
   ],
   "source": [
    "name.lstrip()\n"
   ]
  },
  {
   "cell_type": "code",
   "execution_count": 13,
   "id": "42f911ba-4330-4c63-80a1-59d2aa5daf37",
   "metadata": {},
   "outputs": [
    {
     "name": "stdout",
     "output_type": "stream",
     "text": [
      "python  \n"
     ]
    }
   ],
   "source": [
    "name2=\"python  \"\n",
    "print(name2)\n"
   ]
  },
  {
   "cell_type": "code",
   "execution_count": 14,
   "id": "ddeea128-f58d-4d9e-9d33-aa01039c6853",
   "metadata": {},
   "outputs": [
    {
     "data": {
      "text/plain": [
       "'python'"
      ]
     },
     "execution_count": 14,
     "metadata": {},
     "output_type": "execute_result"
    }
   ],
   "source": [
    "name2.rstrip()"
   ]
  },
  {
   "cell_type": "code",
   "execution_count": 15,
   "id": "1b7e1222-3f7f-4e42-8508-4e5f26927a13",
   "metadata": {},
   "outputs": [
    {
     "name": "stdout",
     "output_type": "stream",
     "text": [
      " python \n"
     ]
    }
   ],
   "source": [
    "name3=\" python \"\n",
    "print(name3)\n"
   ]
  },
  {
   "cell_type": "code",
   "execution_count": 16,
   "id": "56b53154-5bc3-47e1-80db-8ef54e66ec3d",
   "metadata": {},
   "outputs": [
    {
     "data": {
      "text/plain": [
       "'python'"
      ]
     },
     "execution_count": 16,
     "metadata": {},
     "output_type": "execute_result"
    }
   ],
   "source": [
    "name3.strip()\n"
   ]
  },
  {
   "cell_type": "code",
   "execution_count": 17,
   "id": "83679076-e106-4f0a-808a-971f2fd2fad0",
   "metadata": {},
   "outputs": [
    {
     "name": "stdout",
     "output_type": "stream",
     "text": [
      "The Zen of Python, by Tim Peters\n",
      "\n",
      "Beautiful is better than ugly.\n",
      "Explicit is better than implicit.\n",
      "Simple is better than complex.\n",
      "Complex is better than complicated.\n",
      "Flat is better than nested.\n",
      "Sparse is better than dense.\n",
      "Readability counts.\n",
      "Special cases aren't special enough to break the rules.\n",
      "Although practicality beats purity.\n",
      "Errors should never pass silently.\n",
      "Unless explicitly silenced.\n",
      "In the face of ambiguity, refuse the temptation to guess.\n",
      "There should be one-- and preferably only one --obvious way to do it.\n",
      "Although that way may not be obvious at first unless you're Dutch.\n",
      "Now is better than never.\n",
      "Although never is often better than *right* now.\n",
      "If the implementation is hard to explain, it's a bad idea.\n",
      "If the implementation is easy to explain, it may be a good idea.\n",
      "Namespaces are one honking great idea -- let's do more of those!\n"
     ]
    }
   ],
   "source": [
    "import this"
   ]
  },
  {
   "cell_type": "code",
   "execution_count": null,
   "id": "95ca3543-29b2-441a-8d02-955d8765c93d",
   "metadata": {},
   "outputs": [],
   "source": []
  }
 ],
 "metadata": {
  "kernelspec": {
   "display_name": "Python [conda env:base] *",
   "language": "python",
   "name": "conda-base-py"
  },
  "language_info": {
   "codemirror_mode": {
    "name": "ipython",
    "version": 3
   },
   "file_extension": ".py",
   "mimetype": "text/x-python",
   "name": "python",
   "nbconvert_exporter": "python",
   "pygments_lexer": "ipython3",
   "version": "3.13.5"
  }
 },
 "nbformat": 4,
 "nbformat_minor": 5
}
