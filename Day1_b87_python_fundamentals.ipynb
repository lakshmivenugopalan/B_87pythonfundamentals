{
 "cells": [
  {
   "cell_type": "code",
   "execution_count": 2,
   "id": "79b9bf0b-99f1-438c-8526-71859cfb7f55",
   "metadata": {},
   "outputs": [
    {
     "name": "stdout",
     "output_type": "stream",
     "text": [
      "hello all welcome to python programming language\n"
     ]
    }
   ],
   "source": [
    "print(\"hello all welcome to python programming language\")\n"
   ]
  },
  {
   "cell_type": "code",
   "execution_count": 3,
   "id": "b31f84a1-fce6-487b-bfe8-f226dc998062",
   "metadata": {},
   "outputs": [
    {
     "name": "stdout",
     "output_type": "stream",
     "text": [
      "hello world\n"
     ]
    }
   ],
   "source": [
    "print(\"hello world\")\n"
   ]
  }
 ],
 "metadata": {
  "kernelspec": {
   "display_name": "Python [conda env:base] *",
   "language": "python",
   "name": "conda-base-py"
  },
  "language_info": {
   "codemirror_mode": {
    "name": "ipython",
    "version": 3
   },
   "file_extension": ".py",
   "mimetype": "text/x-python",
   "name": "python",
   "nbconvert_exporter": "python",
   "pygments_lexer": "ipython3",
   "version": "3.13.5"
  }
 },
 "nbformat": 4,
 "nbformat_minor": 5
}
